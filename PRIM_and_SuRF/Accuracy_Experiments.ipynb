{
 "cells": [
  {
   "cell_type": "code",
   "execution_count": null,
   "metadata": {
    "ExecuteTime": {
     "end_time": "2023-10-20T09:50:08.199550600Z",
     "start_time": "2023-10-20T09:50:08.176546800Z"
    }
   },
   "outputs": [],
   "source": [
    "%matplotlib inline\n",
    "import matplotlib.pyplot as plt\n",
    "from mpl_toolkits.mplot3d import Axes3D\n",
    "from mpl_toolkits.mplot3d import proj3d\n",
    "import pandas as pd\n",
    "import numpy as np\n",
    "import seaborn as sns\n",
    "sns.set(color_codes=True)\n",
    "from xgboost import XGBRegressor\n",
    "from sklearn.svm import SVR\n",
    "from sklearn.gaussian_process import GaussianProcessRegressor\n",
    "from sklearn.neural_network import MLPRegressor\n",
    "from sklearn.preprocessing import StandardScaler\n",
    "from sklearn.model_selection import GridSearchCV\n",
    "from sklearn.model_selection import train_test_split\n",
    "from matplotlib import patches\n",
    "from sklearn import metrics\n",
    "import os\n",
    "import sys\n",
    "import itertools\n",
    "from pathlib import Path\n",
    "import pickle\n",
    "from codebase.utils import compute_boxes,compute_iou,min_dist\n",
    "from codebase.Accuracy import AccuracyRunnerApprox\n",
    "from Optimization_Methods.GlowWorm import GlowWorm\n",
    "\n",
    "import logging\n",
    "logging.basicConfig(stream=sys.stdout, level=logging.ERROR,)\n",
    "logger = logging.getLogger(__name__)\n",
    "\n",
    "import warnings\n",
    "warnings.filterwarnings('ignore')"
   ]
  },
  {
   "cell_type": "code",
   "execution_count": null,
   "metadata": {
    "ExecuteTime": {
     "end_time": "2023-10-20T10:05:45.238417500Z",
     "start_time": "2023-10-20T10:05:45.179399900Z"
    },
    "scrolled": true
   },
   "outputs": [],
   "source": [
    "result_details = []\n",
    "#Load models and run experiments\n",
    "directory = os.fsencode('models')\n",
    "for file in os.listdir(directory):\n",
    "    filename = os.fsdecode(file)\n",
    "    if not filename.startswith('queries'):\n",
    "        continue;\n",
    "    logger.debug(filename)\n",
    "    a = filename.split('-')\n",
    "    dims = int(a[2])\n",
    "    multi = a[3].split('_')[1]==\"True\"\n",
    "    aggr = a[4]\n",
    "    m = None\n",
    "    \n",
    "    with open('models/%s' % filename, 'rb') as file:  \n",
    "        m = pickle.load(file)\n",
    "        \n",
    "    ac = AccuracyRunnerApprox(dims,multi, aggr,m)\n",
    "    proposed = ac.run_test()\n",
    "    iou_metric, avg_min_dist = ac.check_accuracy(proposed)\n",
    "    rmse =  float(a[6].split('=')[1])\n",
    "    model_name = a[5]\n",
    "    result_details.append([dims,multi,aggr,model_name, rmse, iou_metric ,avg_min_dist])"
   ]
  },
  {
   "cell_type": "code",
   "execution_count": null,
   "metadata": {},
   "outputs": [],
   "source": [
    "eval_df = pd.DataFrame(result_details, columns=['dimensions','multiple_regions','type of aggr', 'model','rmse', 'iou', 'avg_min_dist'])\n",
    "eval_df"
   ]
  },
  {
   "cell_type": "code",
   "execution_count": null,
   "metadata": {},
   "outputs": [],
   "source": [
    "#Multi-modal boxes regions are : [0,0.2]^d, [0.3,0.5]^d, [0.6,0.8]^d\n",
    "#Single regions : [0.6,0.9]^d\n",
    "#Defined by Multi\n",
    "\n",
    "#Evaluation metrics are F-Score and IOU\n",
    "#IOU = Intersection Over Union, ie the overlap of the proposed region and the actual regions divided by the total covered region\n",
    "#F-Score : the defined region covers a number of points F-Score, in which true positives are the points covered by the defined region\n",
    "\n",
    "#Alternative methods are :\n",
    "#1) PRIM\n",
    "#2) Naive (exhaustive) without objective function. Get region with highest and then merge surrounding until no improvement or exceed coverage\n",
    "# 3) Naive (exhaustive) with objective. Random Walk"
   ]
  },
  {
   "cell_type": "markdown",
   "metadata": {},
   "source": [
    "<h2>Using PRIM</h2>"
   ]
  },
  {
   "cell_type": "code",
   "execution_count": null,
   "metadata": {},
   "outputs": [],
   "source": [
    "def load_csv_to_2d_array(filename):\n",
    "    data = np.loadtxt(filename, delimiter=',')\n",
    "    return data.reshape(1, -1) if len(data.shape) == 1 else data\n",
    "\n",
    "\n",
    "directory = 'prim_boxes'\n",
    "prim_details = []\n",
    "for file in os.listdir(directory):\n",
    "    filename = os.fsdecode(file)\n",
    "    if filename.startswith(\"data\"):\n",
    "        a =filename.split('_')\n",
    "        t = a[1]\n",
    "        dim = int(a[2].split('=')[1])\n",
    "        multi = a[-1]==\"True.csv\"\n",
    "        print(multi)\n",
    "        #Check if query file has been generated and skip\n",
    "        logger.debug('Loading file {0}'.format(filename))\n",
    "        \n",
    "        full_path = os.path.join(directory, file)\n",
    "        proposed = load_csv_to_2d_array(full_path)\n",
    "        boxes = compute_boxes(multi,dim)\n",
    "        \n",
    "        logger.debug('Proposed '+ np.array2string(proposed))\n",
    "        iou = compute_iou(boxes, proposed, multi, dim)\n",
    "        avg_min_dist = min_dist(boxes, proposed)\n",
    "        prim_details.append([dim,multi,t,'prim', iou ,avg_min_dist])        "
   ]
  },
  {
   "cell_type": "code",
   "execution_count": null,
   "metadata": {},
   "outputs": [],
   "source": [
    "eval_df_prim = pd.DataFrame(prim_details, columns=['dimensions','multiple_regions','type of aggr', 'model', 'iou', 'avg_min_dist'])\n",
    "eval_df_prim"
   ]
  },
  {
   "cell_type": "markdown",
   "metadata": {},
   "source": [
    "<h3>Prim + KDE</h3>"
   ]
  },
  {
   "cell_type": "code",
   "execution_count": null,
   "metadata": {},
   "outputs": [],
   "source": [
    "def load_csv_to_2d_array(filename):\n",
    "    data = np.loadtxt(filename, delimiter=',')\n",
    "    return data.reshape(1, -1) if len(data.shape) == 1 else data\n",
    "\n",
    "\n",
    "directory = 'prim_kde'\n",
    "prim_kde_details = []\n",
    "for file in os.listdir(directory):\n",
    "    filename = os.fsdecode(file)\n",
    "    if filename.startswith(\"data\"):\n",
    "        a =filename.split('_')\n",
    "        t = a[1]\n",
    "        dim = int(a[2].split('=')[1])\n",
    "        multi = a[-1]==\"True.csv\"\n",
    "        print(multi)\n",
    "        #Check if query file has been generated and skip\n",
    "        logger.debug('Loading file {0}'.format(filename))\n",
    "        \n",
    "        full_path = os.path.join(directory, file)\n",
    "        proposed = load_csv_to_2d_array(full_path)\n",
    "        boxes = compute_boxes(multi,dim)\n",
    "        \n",
    "        logger.debug('Proposed '+ np.array2string(proposed))\n",
    "        iou = compute_iou(boxes, proposed, multi, dim)\n",
    "        avg_min_dist = min_dist(boxes, proposed)\n",
    "        prim_kde_details.append([dim,multi,t,'prim_kde', iou ,avg_min_dist])        "
   ]
  },
  {
   "cell_type": "code",
   "execution_count": null,
   "metadata": {
    "scrolled": true
   },
   "outputs": [],
   "source": [
    "eval_df_prim_kde = pd.DataFrame(prim_kde_details, columns=['dimensions','multiple_regions','type of aggr', 'model', 'iou', 'avg_min_dist'])\n",
    "eval_df_prim_kde"
   ]
  },
  {
   "cell_type": "markdown",
   "metadata": {},
   "source": [
    "<h3> PRIM modification to work with density </h3>"
   ]
  },
  {
   "cell_type": "code",
   "execution_count": null,
   "metadata": {},
   "outputs": [],
   "source": [
    "def load_csv_to_2d_array(filename):\n",
    "    data = np.loadtxt(filename, delimiter=',')\n",
    "    return data.reshape(1, -1) if len(data.shape) == 1 else data\n",
    "\n",
    "\n",
    "directory = 'prim_dens'\n",
    "prim_dens_details = []\n",
    "for file in os.listdir(directory):\n",
    "    filename = os.fsdecode(file)\n",
    "    if filename.startswith(\"data\"):\n",
    "        a =filename.split('_')\n",
    "        t = a[1]\n",
    "        dim = int(a[2].split('=')[1])\n",
    "        multi = a[-1]==\"True.csv\"\n",
    "        print(multi)\n",
    "        #Check if query file has been generated and skip\n",
    "        logger.debug('Loading file {0}'.format(filename))\n",
    "        \n",
    "        full_path = os.path.join(directory, file)\n",
    "        proposed = load_csv_to_2d_array(full_path)\n",
    "        boxes = compute_boxes(multi,dim)\n",
    "        \n",
    "        logger.debug('Proposed '+ np.array2string(proposed))\n",
    "        iou = compute_iou(boxes, proposed, multi, dim)\n",
    "        avg_min_dist = min_dist(boxes, proposed)\n",
    "        prim_dens_details.append([dim,multi,t,'prim_dens', iou ,avg_min_dist])    \n",
    "        \n",
    "eval_df_prim_dens = pd.DataFrame(prim_dens_details, columns=['dimensions','multiple_regions','type of aggr', 'model', 'iou', 'avg_min_dist'])\n",
    "eval_df_prim_dens"
   ]
  },
  {
   "cell_type": "markdown",
   "metadata": {},
   "source": [
    "<h3>Comparison All</h3>"
   ]
  },
  {
   "cell_type": "code",
   "execution_count": null,
   "metadata": {},
   "outputs": [],
   "source": [
    "total_df = pd.concat([eval_df,eval_df_prim_kde,eval_df_prim, eval_df_prim_dens],ignore_index=True,)\n",
    "total_df = total_df.replace(np.nan, 0)\n",
    "total_df['model']=total_df['model'].replace({'XGB':'SuRF','prim_kde': 'PRIM+kde', 'prim': 'PRIM', 'prim_dens': 'PRIMd'})\n",
    "total_df\n",
    "total_df['multiple'] = total_df['multiple_regions']\n",
    "total_df = total_df.drop(columns=['multiple_regions'])\n",
    "total_df['type of aggr']=total_df['type of aggr'].replace({'aggr':'Aggregate','density': 'Density'})\n",
    "total_df['multiple']=total_df['multiple'].replace({True:'k=3',False: 'k=1'})\n",
    "total_df.pivot_table(values='iou',index=['model','type of aggr','multiple'], columns=['dimensions'], aggfunc=lambda x:x)\n",
    "total_df.groupby(['dimensions','model'])['iou'].mean()"
   ]
  },
  {
   "cell_type": "code",
   "execution_count": null,
   "metadata": {},
   "outputs": [],
   "source": [
    "plt.style.use('seaborn-ticks')\n",
    "plt.rc('text', usetex=True)\n",
    "font_size=24\n",
    "params = {'backend': 'ps',\n",
    "          'text.latex.preamble': ['\\\\usepackage{gensymb}'],\n",
    "          'text.usetex': True,\n",
    "          'font.family': 'serif'\n",
    "}\n",
    "\n",
    "plt.rcParams.update(params)"
   ]
  },
  {
   "cell_type": "code",
   "execution_count": null,
   "metadata": {},
   "outputs": [],
   "source": [
    "g= sns.catplot(x=\"dimensions\", y=\"iou\", hue=\"model\",ci=False,markers=['v','^','*','o', '.'] ,scale=1.5 ,col=\"type of aggr\",  row=\"multiple\"\n",
    "            ,despine=False,kind='point', data=total_df, legend=False,legend_out=False,height=3, aspect=1.75)\n",
    "lgd = g.fig.get_axes()[0].legend(loc='upper center', bbox_to_anchor=(1, 1.5),prop={'size':24},\n",
    "                                ncol=4, columnspacing=0.3, handletextpad=0.1,frameon=True,fancybox=True, shadow=True)\n",
    "g.set_titles(template=\"Type: {col_name} - Regions: {row_name}\", size=24)\n",
    "g.set_xlabels(label=\"Dimensions\", fontsize=font_size)\n",
    "g.set_ylabels(label=r'IoU', fontsize=font_size)\n",
    "g.set_xticklabels(labels=range(1,6),size=24)\n",
    "\n",
    "for ax_row in g.axes:\n",
    "    for ax in ax_row:\n",
    "        for label in ax.get_yticklabels():\n",
    "            label.set_size(24)\n",
    "\n",
    "g.despine(top=False, right=False)\n",
    "\n",
    "plt.savefig('output/synthetic-four.pdf',format='pdf',bbox_extra_artists=(lgd,), bbox_inches='tight')"
   ]
  },
  {
   "cell_type": "code",
   "execution_count": null,
   "metadata": {},
   "outputs": [],
   "source": [
    "total_df['multiple'].replace({True: \"k=3\"})\n",
    "total_df = total_df[total_df['model'].isin(['PRIM', 'SuRF'])]"
   ]
  },
  {
   "cell_type": "code",
   "execution_count": null,
   "metadata": {},
   "outputs": [],
   "source": [
    "default_palette = sns.color_palette()\n",
    "modified_palette = [default_palette[0], default_palette[2], default_palette[1]] + default_palette[3:]\n",
    "sns.set_palette(modified_palette)"
   ]
  },
  {
   "cell_type": "code",
   "execution_count": null,
   "metadata": {},
   "outputs": [],
   "source": [
    "ax = sns.barplot(x='multiple',y='iou',hue='model', data=total_df)\n",
    "ax.set_xlabel('Multiple Regions', fontsize=font_size)\n",
    "ax.set_ylabel(r'IoU', fontsize=font_size)\n",
    "ax.tick_params(labelsize=24)\n",
    "plt.legend(prop={'size':24},shadow=True, frameon=True)\n",
    "plt.tight_layout()\n",
    "plt.savefig('output/synthetic_accuracy_multiple_regions.pdf',format='pdf')"
   ]
  },
  {
   "cell_type": "code",
   "execution_count": null,
   "metadata": {},
   "outputs": [],
   "source": [
    "ax = sns.barplot(x='type of aggr',y='iou',hue='model', data=total_df)\n",
    "ax.set_xlabel('Aggregate Type', fontsize=font_size)\n",
    "ax.set_ylabel(r'IoU', fontsize=font_size)\n",
    "ax.tick_params(labelsize=24)\n",
    "plt.legend(prop={'size':24},shadow=True, frameon=True)\n",
    "plt.tight_layout()\n",
    "plt.savefig('output/synthetic_accuracy_type.pdf',format='pdf')"
   ]
  }
 ],
 "metadata": {
  "kernelspec": {
   "display_name": "Python 3 (ipykernel)",
   "language": "python",
   "name": "python3"
  },
  "language_info": {
   "codemirror_mode": {
    "name": "ipython",
    "version": 3
   },
   "file_extension": ".py",
   "mimetype": "text/x-python",
   "name": "python",
   "nbconvert_exporter": "python",
   "pygments_lexer": "ipython3",
   "version": "3.7.16"
  }
 },
 "nbformat": 4,
 "nbformat_minor": 2
}
