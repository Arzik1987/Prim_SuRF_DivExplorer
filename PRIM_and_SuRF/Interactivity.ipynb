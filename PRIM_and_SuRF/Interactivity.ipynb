{
 "cells": [
  {
   "cell_type": "code",
   "execution_count": null,
   "id": "af45125c",
   "metadata": {},
   "outputs": [],
   "source": [
    "import pandas as pd\n",
    "import matplotlib.pyplot as plt\n",
    "import numpy as np\n",
    "from prim_dens import PRIMdens\n",
    "new_data = pd.read_csv('input/data_density_dimensions=2_multi_False', header=None)\n",
    "\n",
    "# Create an instance of the latest PRIMdens class and fit it to the new_data\n",
    "prim_dens_model_latest = PRIMdens(new_data.values)\n",
    "prim_dens_model_latest.fit()\n",
    "\n",
    "# Extract densities and corresponding box volumes for plotting\n",
    "densities_latest = prim_dens_model_latest.densities_\n",
    "volumes_latest = [np.prod(box[1] - box[0]) for box in prim_dens_model_latest.boxes_]\n",
    "\n",
    "# Set up the plotting parameters\n",
    "plt.style.use('seaborn-ticks')\n",
    "plt.rc('text', usetex=True)\n",
    "font_size = 22\n",
    "params = {\n",
    "    'backend': 'ps',\n",
    "    'text.latex.preamble': ['\\\\usepackage{gensymb}'],\n",
    "    'text.usetex': True,\n",
    "    'font.family': 'serif'\n",
    "}\n",
    "plt.rcParams.update(params)\n",
    "\n",
    "# Plotting the densities \n",
    "plt.figure(figsize=(10, 6))\n",
    "plt.plot(volumes_latest, [density/1000 for density in densities_latest], '-*', color='green', linewidth=2, markersize=12)\n",
    "plt.axvline(x=0.09, color='red', linestyle='--', linewidth=1.5)\n",
    "plt.xlabel(\"Box Volume\", fontsize=font_size)\n",
    "plt.ylabel(\"Density\", fontsize=font_size)\n",
    "plt.xticks(fontsize=font_size)\n",
    "plt.yticks(fontsize=font_size)\n",
    "plt.grid(True)\n",
    "plt.tight_layout()\n",
    "plt.savefig('output/interactive.pdf')\n",
    "plt.show()\n",
    "\n"
   ]
  }
 ],
 "metadata": {
  "kernelspec": {
   "display_name": "Python 3 (ipykernel)",
   "language": "python",
   "name": "python3"
  },
  "language_info": {
   "codemirror_mode": {
    "name": "ipython",
    "version": 3
   },
   "file_extension": ".py",
   "mimetype": "text/x-python",
   "name": "python",
   "nbconvert_exporter": "python",
   "pygments_lexer": "ipython3",
   "version": "3.7.16"
  }
 },
 "nbformat": 4,
 "nbformat_minor": 5
}
