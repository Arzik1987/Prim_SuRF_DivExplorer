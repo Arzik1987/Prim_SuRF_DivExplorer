{
 "metadata": {
  "kernelspec": {
   "language": "python",
   "display_name": "Python 3",
   "name": "python3"
  },
  "language_info": {
   "name": "python",
   "version": "3.10.12",
   "mimetype": "text/x-python",
   "codemirror_mode": {
    "name": "ipython",
    "version": 3
   },
   "pygments_lexer": "ipython3",
   "nbconvert_exporter": "python",
   "file_extension": ".py"
  },
  "kaggle": {
   "accelerator": "none",
   "dataSources": [
    {
     "sourceId": 7389075,
     "sourceType": "datasetVersion",
     "datasetId": 4277533
    },
    {
     "sourceId": 158437784,
     "sourceType": "kernelVersion"
    },
    {
     "sourceId": 158460248,
     "sourceType": "kernelVersion"
    },
    {
     "sourceId": 158464992,
     "sourceType": "kernelVersion"
    },
    {
     "sourceId": 158571226,
     "sourceType": "kernelVersion"
    },
    {
     "sourceId": 158693464,
     "sourceType": "kernelVersion"
    },
    {
     "sourceId": 159061681,
     "sourceType": "kernelVersion"
    },
    {
     "sourceId": 159063512,
     "sourceType": "kernelVersion"
    }
   ],
   "dockerImageVersionId": 30626,
   "isInternetEnabled": true,
   "language": "python",
   "sourceType": "notebook",
   "isGpuEnabled": false
  }
 },
 "nbformat_minor": 4,
 "nbformat": 4,
 "cells": [
  {
   "cell_type": "markdown",
   "source": [],
   "metadata": {
    "collapsed": false
   }
  },
  {
   "cell_type": "code",
   "execution_count": 136,
   "outputs": [],
   "source": [
    "import numpy as np\n",
    "import pandas as pd"
   ],
   "metadata": {
    "collapsed": false,
    "ExecuteTime": {
     "end_time": "2024-02-20T20:16:44.950858100Z",
     "start_time": "2024-02-20T20:16:44.851439700Z"
    }
   }
  },
  {
   "cell_type": "code",
   "execution_count": 137,
   "outputs": [],
   "source": [
    "compas_df = pd.read_csv('https://raw.githubusercontent.com/divexplorer/divexplorer/main/datasets/compas_discretized.csv')"
   ],
   "metadata": {
    "collapsed": false,
    "ExecuteTime": {
     "end_time": "2024-02-20T20:16:46.627085500Z",
     "start_time": "2024-02-20T20:16:45.751241200Z"
    }
   }
  },
  {
   "cell_type": "code",
   "execution_count": 138,
   "outputs": [],
   "source": [
    "from divexplorer.outcomes import get_false_positive_rate_outcome, get_false_negative_rate_outcome\n",
    "from divexplorer import DivergenceExplorer\n",
    "\n",
    "y_trues = compas_df[\"class\"]\n",
    "y_preds = compas_df[\"predicted\"]\n",
    "\n",
    "compas_df['fp'] =  get_false_positive_rate_outcome(y_trues, y_preds)\n",
    "compas_df['fn'] =  get_false_negative_rate_outcome(y_trues, y_preds)"
   ],
   "metadata": {
    "collapsed": false,
    "ExecuteTime": {
     "end_time": "2024-02-20T20:16:49.533774900Z",
     "start_time": "2024-02-20T20:16:49.433536700Z"
    }
   }
  },
  {
   "cell_type": "code",
   "execution_count": 139,
   "outputs": [
    {
     "data": {
      "text/plain": "     support                                        itemset        fp  \\\n37  0.128645  (race=Afr-Am, sex=Male, #prior=>3, age=25-45)  0.308036   \n31  0.145010            (race=Afr-Am, #prior=>3, age=25-45)  0.299242   \n26  0.175308             (race=Afr-Am, sex=Male, #prior=>3)  0.266871   \n20  0.196695                       (race=Afr-Am, #prior=>3)  0.261097   \n23  0.180655               (sex=Male, #prior=>3, age=25-45)  0.252941   \n18  0.207226                         (#prior=>3, age=25-45)  0.251889   \n13  0.256643                          (sex=Male, #prior=>3)  0.222868   \n41  0.107583               (race=Afr-Am, age=<25, sex=Male)  0.219409   \n11  0.293422                                    (#prior=>3)  0.219269   \n36  0.131076                         (race=Afr-Am, age=<25)  0.207547   \n\n      fp_div      fp_t  length  support_count  \n37  0.219722  7.116857       4          794.0  \n31  0.210928  7.448260       3          895.0  \n26  0.178557  7.214382       3         1082.0  \n20  0.172783  7.582039       2         1214.0  \n23  0.164627  6.903692       3         1115.0  \n18  0.163575  7.384973       2         1279.0  \n13  0.134554  7.146700       2         1584.0  \n41  0.131095  4.886362       3          664.0  \n11  0.130955  7.503321       1         1811.0  \n36  0.119233  5.200687       2          809.0  ",
      "text/html": "<div>\n<style scoped>\n    .dataframe tbody tr th:only-of-type {\n        vertical-align: middle;\n    }\n\n    .dataframe tbody tr th {\n        vertical-align: top;\n    }\n\n    .dataframe thead th {\n        text-align: right;\n    }\n</style>\n<table border=\"1\" class=\"dataframe\">\n  <thead>\n    <tr style=\"text-align: right;\">\n      <th></th>\n      <th>support</th>\n      <th>itemset</th>\n      <th>fp</th>\n      <th>fp_div</th>\n      <th>fp_t</th>\n      <th>length</th>\n      <th>support_count</th>\n    </tr>\n  </thead>\n  <tbody>\n    <tr>\n      <th>37</th>\n      <td>0.128645</td>\n      <td>(race=Afr-Am, sex=Male, #prior=&gt;3, age=25-45)</td>\n      <td>0.308036</td>\n      <td>0.219722</td>\n      <td>7.116857</td>\n      <td>4</td>\n      <td>794.0</td>\n    </tr>\n    <tr>\n      <th>31</th>\n      <td>0.145010</td>\n      <td>(race=Afr-Am, #prior=&gt;3, age=25-45)</td>\n      <td>0.299242</td>\n      <td>0.210928</td>\n      <td>7.448260</td>\n      <td>3</td>\n      <td>895.0</td>\n    </tr>\n    <tr>\n      <th>26</th>\n      <td>0.175308</td>\n      <td>(race=Afr-Am, sex=Male, #prior=&gt;3)</td>\n      <td>0.266871</td>\n      <td>0.178557</td>\n      <td>7.214382</td>\n      <td>3</td>\n      <td>1082.0</td>\n    </tr>\n    <tr>\n      <th>20</th>\n      <td>0.196695</td>\n      <td>(race=Afr-Am, #prior=&gt;3)</td>\n      <td>0.261097</td>\n      <td>0.172783</td>\n      <td>7.582039</td>\n      <td>2</td>\n      <td>1214.0</td>\n    </tr>\n    <tr>\n      <th>23</th>\n      <td>0.180655</td>\n      <td>(sex=Male, #prior=&gt;3, age=25-45)</td>\n      <td>0.252941</td>\n      <td>0.164627</td>\n      <td>6.903692</td>\n      <td>3</td>\n      <td>1115.0</td>\n    </tr>\n    <tr>\n      <th>18</th>\n      <td>0.207226</td>\n      <td>(#prior=&gt;3, age=25-45)</td>\n      <td>0.251889</td>\n      <td>0.163575</td>\n      <td>7.384973</td>\n      <td>2</td>\n      <td>1279.0</td>\n    </tr>\n    <tr>\n      <th>13</th>\n      <td>0.256643</td>\n      <td>(sex=Male, #prior=&gt;3)</td>\n      <td>0.222868</td>\n      <td>0.134554</td>\n      <td>7.146700</td>\n      <td>2</td>\n      <td>1584.0</td>\n    </tr>\n    <tr>\n      <th>41</th>\n      <td>0.107583</td>\n      <td>(race=Afr-Am, age=&lt;25, sex=Male)</td>\n      <td>0.219409</td>\n      <td>0.131095</td>\n      <td>4.886362</td>\n      <td>3</td>\n      <td>664.0</td>\n    </tr>\n    <tr>\n      <th>11</th>\n      <td>0.293422</td>\n      <td>(#prior=&gt;3)</td>\n      <td>0.219269</td>\n      <td>0.130955</td>\n      <td>7.503321</td>\n      <td>1</td>\n      <td>1811.0</td>\n    </tr>\n    <tr>\n      <th>36</th>\n      <td>0.131076</td>\n      <td>(race=Afr-Am, age=&lt;25)</td>\n      <td>0.207547</td>\n      <td>0.119233</td>\n      <td>5.200687</td>\n      <td>2</td>\n      <td>809.0</td>\n    </tr>\n  </tbody>\n</table>\n</div>"
     },
     "execution_count": 139,
     "metadata": {},
     "output_type": "execute_result"
    }
   ],
   "source": [
    "fp_diver = DivergenceExplorer(compas_df)\n",
    "\n",
    "attributes = ['race', '#prior', 'sex', 'age']\n",
    "# attributes = ['age', 'charge', 'race', 'sex', '#prior', 'stay']\n",
    "FP_fm = fp_diver.get_pattern_divergence(min_support=0.1, attributes=attributes, \n",
    "                                        boolean_outcomes=['fp'])\n",
    "FP_fm.sort_values(by=\"fp_div\", ascending=False).head(10)"
   ],
   "metadata": {
    "collapsed": false,
    "ExecuteTime": {
     "end_time": "2024-02-20T20:16:50.772479100Z",
     "start_time": "2024-02-20T20:16:50.552547100Z"
    }
   }
  },
  {
   "cell_type": "code",
   "execution_count": 140,
   "outputs": [
    {
     "data": {
      "text/plain": "{frozenset({'race=Afr-Am'}): 0.05115538154975479,\n frozenset({'sex=Male'}): 0.007220590601649036,\n frozenset({'#prior=>3'}): 0.14226087371897317,\n frozenset({'age=25-45'}): 0.019084863062973356}"
     },
     "execution_count": 140,
     "metadata": {},
     "output_type": "execute_result"
    }
   ],
   "source": [
    "from divexplorer import DivergencePatternProcessor\n",
    "fp_details = DivergencePatternProcessor(FP_fm, 'fp')\n",
    "\n",
    "pattern = fp_details.patterns['itemset'].iloc[37]\n",
    "fp_details.shapley_value(pattern)"
   ],
   "metadata": {
    "collapsed": false,
    "ExecuteTime": {
     "end_time": "2024-02-20T20:16:52.351587600Z",
     "start_time": "2024-02-20T20:16:52.269413400Z"
    }
   }
  },
  {
   "cell_type": "code",
   "execution_count": 141,
   "outputs": [
    {
     "data": {
      "text/plain": "0.2109284188900603"
     },
     "execution_count": 141,
     "metadata": {},
     "output_type": "execute_result"
    }
   ],
   "source": [
    "df = compas_df.copy()\n",
    "retain = df['class'] == 0\n",
    "X = df[['age', 'charge', 'race', 'sex', '#prior', 'stay']][retain]\n",
    "y = (df['class'] != df['predicted'])[retain]\n",
    "\n",
    "c1 = X['#prior'] == '>3'\n",
    "c2 = X['race'] == 'Afr-Am'\n",
    "c3 = X['age'] == '25-45'\n",
    "np.mean(y[np.logical_and(np.logical_and(c1,c2),c3)]) - np.mean(y)"
   ],
   "metadata": {
    "collapsed": false,
    "ExecuteTime": {
     "end_time": "2024-02-20T20:16:53.055686700Z",
     "start_time": "2024-02-20T20:16:52.959895700Z"
    }
   }
  },
  {
   "cell_type": "code",
   "execution_count": 142,
   "outputs": [
    {
     "data": {
      "text/plain": "     age charge    race   sex prior   stay  class  predicted   fp   fn\n0    >45      F   Other  Male     0  <week      0          0  0.0  NaN\n1  25-45      F  Afr-Am  Male     0  1w-3M      1          0  NaN  1.0\n2    <25      F  Afr-Am  Male    >3  <week      1          0  NaN  1.0\n3  25-45      M   Other  Male     0  <week      0          0  0.0  NaN\n4  25-45      F    Cauc  Male    >3  <week      1          0  NaN  1.0",
      "text/html": "<div>\n<style scoped>\n    .dataframe tbody tr th:only-of-type {\n        vertical-align: middle;\n    }\n\n    .dataframe tbody tr th {\n        vertical-align: top;\n    }\n\n    .dataframe thead th {\n        text-align: right;\n    }\n</style>\n<table border=\"1\" class=\"dataframe\">\n  <thead>\n    <tr style=\"text-align: right;\">\n      <th></th>\n      <th>age</th>\n      <th>charge</th>\n      <th>race</th>\n      <th>sex</th>\n      <th>prior</th>\n      <th>stay</th>\n      <th>class</th>\n      <th>predicted</th>\n      <th>fp</th>\n      <th>fn</th>\n    </tr>\n  </thead>\n  <tbody>\n    <tr>\n      <th>0</th>\n      <td>&gt;45</td>\n      <td>F</td>\n      <td>Other</td>\n      <td>Male</td>\n      <td>0</td>\n      <td>&lt;week</td>\n      <td>0</td>\n      <td>0</td>\n      <td>0.0</td>\n      <td>NaN</td>\n    </tr>\n    <tr>\n      <th>1</th>\n      <td>25-45</td>\n      <td>F</td>\n      <td>Afr-Am</td>\n      <td>Male</td>\n      <td>0</td>\n      <td>1w-3M</td>\n      <td>1</td>\n      <td>0</td>\n      <td>NaN</td>\n      <td>1.0</td>\n    </tr>\n    <tr>\n      <th>2</th>\n      <td>&lt;25</td>\n      <td>F</td>\n      <td>Afr-Am</td>\n      <td>Male</td>\n      <td>&gt;3</td>\n      <td>&lt;week</td>\n      <td>1</td>\n      <td>0</td>\n      <td>NaN</td>\n      <td>1.0</td>\n    </tr>\n    <tr>\n      <th>3</th>\n      <td>25-45</td>\n      <td>M</td>\n      <td>Other</td>\n      <td>Male</td>\n      <td>0</td>\n      <td>&lt;week</td>\n      <td>0</td>\n      <td>0</td>\n      <td>0.0</td>\n      <td>NaN</td>\n    </tr>\n    <tr>\n      <th>4</th>\n      <td>25-45</td>\n      <td>F</td>\n      <td>Cauc</td>\n      <td>Male</td>\n      <td>&gt;3</td>\n      <td>&lt;week</td>\n      <td>1</td>\n      <td>0</td>\n      <td>NaN</td>\n      <td>1.0</td>\n    </tr>\n  </tbody>\n</table>\n</div>"
     },
     "execution_count": 142,
     "metadata": {},
     "output_type": "execute_result"
    }
   ],
   "source": [
    "# df = pd.read_csv(\"compas_discretized.csv\")\n",
    "df = compas_df.copy()\n",
    "\n",
    "df.columns = ['age', 'charge', 'race', 'sex', 'prior', 'stay', 'class', 'predicted', 'fp', 'fn']\n",
    "df.head()"
   ],
   "metadata": {
    "collapsed": false,
    "ExecuteTime": {
     "end_time": "2024-02-20T20:16:53.739760700Z",
     "start_time": "2024-02-20T20:16:53.633265500Z"
    }
   }
  },
  {
   "cell_type": "code",
   "execution_count": 143,
   "outputs": [
    {
     "data": {
      "text/plain": "0.1285077770576798"
     },
     "execution_count": 143,
     "metadata": {},
     "output_type": "execute_result"
    }
   ],
   "source": [
    "X = df[['age', 'charge', 'race', 'sex', 'prior', 'stay']]\n",
    "y = (df['class'] == df['predicted'])\n",
    "\n",
    "c1 = X['prior'] == '0'\n",
    "c2 = X['charge'] == 'M'\n",
    "np.mean(y[np.logical_and(c1,c2)]) - np.mean(y)"
   ],
   "metadata": {
    "collapsed": false,
    "ExecuteTime": {
     "end_time": "2024-02-20T20:16:54.296877900Z",
     "start_time": "2024-02-20T20:16:54.211553300Z"
    }
   }
  },
  {
   "cell_type": "code",
   "execution_count": 144,
   "outputs": [
    {
     "data": {
      "text/plain": "(array([0.        , 0.03191009, 0.07099349, 0.07472337, 0.08671465,\n        0.15085626, 0.18198   , 0.18113383, 0.17850778, 0.17797359]),\n [1.0,\n  0.7065780946208684,\n  0.5102073882047958,\n  0.4944912508101102,\n  0.42174335709656513,\n  0.21386908619572262,\n  0.13998703823720027,\n  0.11568373298768632,\n  0.11406351263771873,\n  0.11373946856772521])"
     },
     "execution_count": 144,
     "metadata": {},
     "output_type": "execute_result"
    }
   ],
   "source": [
    "# accuracy\n",
    "\n",
    "from PRIM import PRIM_nominal_pat\n",
    "\n",
    "pr = PRIM_nominal_pat()\n",
    "pr.fit(X, y)\n",
    "tmp = pr.get_res()\n",
    "tmp[1] - tmp[1][0], tmp[2]\n"
   ],
   "metadata": {
    "collapsed": false,
    "ExecuteTime": {
     "end_time": "2024-02-20T20:16:55.171925600Z",
     "start_time": "2024-02-20T20:16:55.021474Z"
    }
   }
  },
  {
   "cell_type": "code",
   "execution_count": 145,
   "outputs": [
    {
     "name": "stdout",
     "output_type": "stream",
     "text": [
      "Delta_accuracy = 0.18197999927990205\n",
      "Support = 0.13998703823720027\n"
     ]
    },
    {
     "data": {
      "text/plain": "([array(['>45', '25-45'], dtype=object),\n  array(['F', 'M'], dtype=object),\n  array(['Other', 'Cauc', 'Hispanic', 'Asian', 'Native American'],\n        dtype=object),\n  array(['Male', 'Female'], dtype=object),\n  array(['0'], dtype=object),\n  array(['<week'], dtype=object)],\n [array(['>45', '25-45', '<25'], dtype=object),\n  array(['F', 'M'], dtype=object),\n  array(['Other', 'Afr-Am', 'Cauc', 'Hispanic', 'Asian', 'Native American'],\n        dtype=object),\n  array(['Male', 'Female'], dtype=object),\n  array(['0', '>3', '[1,3]'], dtype=object),\n  array(['<week', '1w-3M', '>3Months'], dtype=object)])"
     },
     "execution_count": 145,
     "metadata": {},
     "output_type": "execute_result"
    }
   ],
   "source": [
    "boxn = 6\n",
    "print('Delta_accuracy = %s' %(tmp[1] - tmp[1][0])[boxn])\n",
    "print('Support = %s' %tmp[2][boxn])\n",
    "\n",
    "tmp[0][boxn], tmp[0][0]"
   ],
   "metadata": {
    "collapsed": false,
    "ExecuteTime": {
     "end_time": "2024-02-20T20:16:55.754612100Z",
     "start_time": "2024-02-20T20:16:55.689583300Z"
    }
   }
  },
  {
   "cell_type": "code",
   "execution_count": 146,
   "outputs": [
    {
     "name": "stdout",
     "output_type": "stream",
     "text": [
      "Delta_accuracy = 0.15085626190616463\n",
      "Support = 0.21386908619572262\n"
     ]
    },
    {
     "data": {
      "text/plain": "([array(['>45', '25-45'], dtype=object),\n  array(['F', 'M'], dtype=object),\n  array(['Other', 'Afr-Am', 'Cauc', 'Hispanic', 'Asian', 'Native American'],\n        dtype=object),\n  array(['Male', 'Female'], dtype=object),\n  array(['0'], dtype=object),\n  array(['<week'], dtype=object)],\n [array(['>45', '25-45', '<25'], dtype=object),\n  array(['F', 'M'], dtype=object),\n  array(['Other', 'Afr-Am', 'Cauc', 'Hispanic', 'Asian', 'Native American'],\n        dtype=object),\n  array(['Male', 'Female'], dtype=object),\n  array(['0', '>3', '[1,3]'], dtype=object),\n  array(['<week', '1w-3M', '>3Months'], dtype=object)])"
     },
     "execution_count": 146,
     "metadata": {},
     "output_type": "execute_result"
    }
   ],
   "source": [
    "boxn = 5\n",
    "print('Delta_accuracy = %s' %(tmp[1] - tmp[1][0])[boxn])\n",
    "print('Support = %s' %tmp[2][boxn])\n",
    "\n",
    "tmp[0][boxn], tmp[0][0]"
   ],
   "metadata": {
    "collapsed": false,
    "ExecuteTime": {
     "end_time": "2024-02-20T20:16:56.418153900Z",
     "start_time": "2024-02-20T20:16:56.328412900Z"
    }
   }
  },
  {
   "cell_type": "code",
   "execution_count": 147,
   "outputs": [
    {
     "name": "stdout",
     "output_type": "stream",
     "text": [
      "The autoreload extension is already loaded. To reload it, use:\n",
      "  %reload_ext autoreload\n"
     ]
    },
    {
     "data": {
      "text/plain": "(array([ 0.03191009,  0.09262648,  0.14257453,  0.17098703,  0.17921962,\n         0.18198   ,  0.18155302,  0.17938806,  0.17797359, -0.08786328,\n        -0.11870065, -0.22640523, -0.25319512]),\n array([0.70657809, 0.33781594, 0.23784835, 0.15618924, 0.14225535,\n        0.13998704, 0.13966299, 0.13804277, 0.11373947, 0.07080363,\n        0.03337654, 0.0066429 , 0.00502268]))"
     },
     "execution_count": 147,
     "metadata": {},
     "output_type": "execute_result"
    }
   ],
   "source": [
    "%load_ext autoreload\n",
    "%autoreload 2\n",
    "%config Application.log_level='INFO'\n",
    "\n",
    "from primnew import PRIM\n",
    "sd = PRIM(patience=0.4)\n",
    "sd.fit(X, y)\n",
    "\n",
    "np.array(sd.get_qual()), np.array(sd.get_size())"
   ],
   "metadata": {
    "collapsed": false,
    "ExecuteTime": {
     "end_time": "2024-02-20T20:16:57.540489200Z",
     "start_time": "2024-02-20T20:16:57.397848300Z"
    }
   }
  },
  {
   "cell_type": "code",
   "execution_count": 148,
   "outputs": [
    {
     "data": {
      "text/plain": "([['<25'], [], [], [], ['>3', '[1,3]'], []], 0.14257453455086788)"
     },
     "execution_count": 148,
     "metadata": {},
     "output_type": "execute_result"
    }
   ],
   "source": [
    "n = 2\n",
    "sd.get_box(n), sd.get_qual()[n]"
   ],
   "metadata": {
    "collapsed": false,
    "ExecuteTime": {
     "end_time": "2024-02-20T20:16:58.648320500Z",
     "start_time": "2024-02-20T20:16:58.567831200Z"
    }
   }
  },
  {
   "cell_type": "code",
   "execution_count": 149,
   "outputs": [
    {
     "data": {
      "text/plain": "([['<25'], [], ['Afr-Am'], [], ['>3', '[1,3]'], []], 0.17098703016971306)"
     },
     "execution_count": 149,
     "metadata": {},
     "output_type": "execute_result"
    }
   ],
   "source": [
    "n = 3\n",
    "sd.get_box(n), sd.get_qual()[n]"
   ],
   "metadata": {
    "collapsed": false,
    "ExecuteTime": {
     "end_time": "2024-02-20T20:16:59.963073800Z",
     "start_time": "2024-02-20T20:16:59.894055900Z"
    }
   }
  },
  {
   "cell_type": "code",
   "execution_count": 150,
   "outputs": [
    {
     "data": {
      "text/plain": "(array([0.        , 0.00070774, 0.0008764 , 0.04752236, 0.0624306 ,\n        0.06606644, 0.07146741, 0.07873139, 0.07750184, 0.07663561,\n        0.07404672, 0.06952231]),\n [1.0,\n  0.9949773169151005,\n  0.9931950745301361,\n  0.6586195722618277,\n  0.5218729747245625,\n  0.48898250162022033,\n  0.40813350615683736,\n  0.18324692158133507,\n  0.13480233311730394,\n  0.12994167206740118,\n  0.11892417368762152,\n  0.11309138042773817])"
     },
     "execution_count": 150,
     "metadata": {},
     "output_type": "execute_result"
    }
   ],
   "source": [
    "# error rate (more patient - fails.)\n",
    "y = (df['class'] != df['predicted'])\n",
    "pr.fit(X, y)\n",
    "tmp = pr.get_res()\n",
    "tmp[1] - tmp[1][0], tmp[2]"
   ],
   "metadata": {
    "collapsed": false,
    "ExecuteTime": {
     "end_time": "2024-02-20T20:17:00.875847300Z",
     "start_time": "2024-02-20T20:17:00.706213800Z"
    }
   }
  },
  {
   "cell_type": "code",
   "execution_count": 152,
   "outputs": [
    {
     "name": "stdout",
     "output_type": "stream",
     "text": [
      "Delta_error = 0.07873139181942007\n",
      "Support = 0.18324692158133507\n"
     ]
    },
    {
     "data": {
      "text/plain": "([array(['25-45', '<25'], dtype=object),\n  array(['F', 'M'], dtype=object),\n  array(['Other', 'Afr-Am', 'Cauc', 'Hispanic'], dtype=object),\n  array(['Male'], dtype=object),\n  array(['>3'], dtype=object),\n  array(['<week', '1w-3M'], dtype=object)],\n [array(['>45', '25-45', '<25'], dtype=object),\n  array(['F', 'M'], dtype=object),\n  array(['Other', 'Afr-Am', 'Cauc', 'Hispanic', 'Asian', 'Native American'],\n        dtype=object),\n  array(['Male', 'Female'], dtype=object),\n  array(['0', '>3', '[1,3]'], dtype=object),\n  array(['<week', '1w-3M', '>3Months'], dtype=object)])"
     },
     "execution_count": 152,
     "metadata": {},
     "output_type": "execute_result"
    }
   ],
   "source": [
    "boxn = 7\n",
    "print('Delta_error = %s' %(tmp[1] - tmp[1][0])[boxn])\n",
    "print('Support = %s' %tmp[2][boxn])\n",
    "\n",
    "tmp[0][boxn], tmp[0][0]"
   ],
   "metadata": {
    "collapsed": false,
    "ExecuteTime": {
     "end_time": "2024-02-20T20:17:30.761962900Z",
     "start_time": "2024-02-20T20:17:30.661641600Z"
    }
   }
  },
  {
   "cell_type": "code",
   "execution_count": 154,
   "outputs": [
    {
     "name": "stdout",
     "output_type": "stream",
     "text": [
      "Delta_error = 0.07750183832693552\n",
      "Support = 0.13480233311730394\n"
     ]
    },
    {
     "data": {
      "text/plain": "([array(['25-45', '<25'], dtype=object),\n  array(['F', 'M'], dtype=object),\n  array(['Other', 'Afr-Am', 'Cauc', 'Hispanic'], dtype=object),\n  array(['Male'], dtype=object),\n  array(['>3'], dtype=object),\n  array(['<week'], dtype=object)],\n [array(['>45', '25-45', '<25'], dtype=object),\n  array(['F', 'M'], dtype=object),\n  array(['Other', 'Afr-Am', 'Cauc', 'Hispanic', 'Asian', 'Native American'],\n        dtype=object),\n  array(['Male', 'Female'], dtype=object),\n  array(['0', '>3', '[1,3]'], dtype=object),\n  array(['<week', '1w-3M', '>3Months'], dtype=object)])"
     },
     "execution_count": 154,
     "metadata": {},
     "output_type": "execute_result"
    }
   ],
   "source": [
    "boxn = 8\n",
    "print('Delta_error = %s' %(tmp[1] - tmp[1][0])[boxn])\n",
    "print('Support = %s' %tmp[2][boxn])\n",
    "\n",
    "tmp[0][boxn], tmp[0][0]"
   ],
   "metadata": {
    "collapsed": false,
    "ExecuteTime": {
     "end_time": "2024-02-20T20:17:46.516892900Z",
     "start_time": "2024-02-20T20:17:46.435768700Z"
    }
   }
  },
  {
   "cell_type": "code",
   "execution_count": 49,
   "outputs": [
    {
     "data": {
      "text/plain": "(array([ 0.04725378,  0.06168073,  0.06534536,  0.06587053,  0.12059937,\n         0.12132456,  0.12312266, -0.13232446, -0.18946457]),\n array([0.66218406, 0.52430331, 0.49092677, 0.48995463, 0.10887881,\n        0.10871679, 0.10434219, 0.02543746, 0.01036941]))"
     },
     "execution_count": 49,
     "metadata": {},
     "output_type": "execute_result"
    }
   ],
   "source": [
    "sd = PRIM(patience=0.4)\n",
    "sd.fit(X, y)\n",
    "\n",
    "np.array(sd.get_qual()), np.array(sd.get_size())"
   ],
   "metadata": {
    "collapsed": false,
    "ExecuteTime": {
     "end_time": "2024-02-20T09:42:49.594328900Z",
     "start_time": "2024-02-20T09:42:49.509642900Z"
    }
   }
  },
  {
   "cell_type": "code",
   "execution_count": 56,
   "outputs": [
    {
     "name": "stdout",
     "output_type": "stream",
     "text": [
      "Index(['age', 'charge', 'race', 'sex', 'prior', 'stay'], dtype='object')\n"
     ]
    },
    {
     "data": {
      "text/plain": "([['>45', '25-45'], [], ['Asian'], [], ['0'], ['>3Months']],\n 0.10887880751782242,\n 0.120599365799463)"
     },
     "execution_count": 56,
     "metadata": {},
     "output_type": "execute_result"
    }
   ],
   "source": [
    "n = 4\n",
    "print(X.columns)\n",
    "sd.get_box(n), sd.get_size()[n], sd.get_qual()[n]"
   ],
   "metadata": {
    "collapsed": false,
    "ExecuteTime": {
     "end_time": "2024-02-20T09:47:45.685084Z",
     "start_time": "2024-02-20T09:47:45.629179800Z"
    }
   }
  },
  {
   "cell_type": "code",
   "execution_count": 55,
   "outputs": [
    {
     "name": "stdout",
     "output_type": "stream",
     "text": [
      "Index(['age', 'charge', 'race', 'sex', 'prior', 'stay'], dtype='object')\n"
     ]
    },
    {
     "data": {
      "text/plain": "([['>45', '25-45'],\n  [],\n  ['Asian', 'Native American', 'Other'],\n  [],\n  ['0'],\n  ['>3Months']],\n 0.10434219053791316,\n 0.12312265772492886)"
     },
     "execution_count": 55,
     "metadata": {},
     "output_type": "execute_result"
    }
   ],
   "source": [
    "n = 6\n",
    "print(X.columns)\n",
    "sd.get_box(n), sd.get_size()[n], sd.get_qual()[n]"
   ],
   "metadata": {
    "collapsed": false,
    "ExecuteTime": {
     "end_time": "2024-02-20T09:46:21.787362700Z",
     "start_time": "2024-02-20T09:46:21.723396200Z"
    }
   }
  },
  {
   "cell_type": "code",
   "execution_count": 58,
   "outputs": [
    {
     "data": {
      "text/plain": "(array([ 0.04725378,  0.07684148,  0.13482974,  0.13483539,  0.13314333,\n        -1.        , -1.        ]),\n array([0.66218406, 0.29342191, 0.09672715, 0.09607907, 0.09543098,\n        0.03386261, 0.00826312]))"
     },
     "execution_count": 58,
     "metadata": {},
     "output_type": "execute_result"
    }
   ],
   "source": [
    "sd = PRIM(patience=0, mass_min=0.095)\n",
    "sd.fit(X, y)\n",
    "\n",
    "np.array(sd.get_qual()), np.array(sd.get_size())"
   ],
   "metadata": {
    "collapsed": false,
    "ExecuteTime": {
     "end_time": "2024-02-20T10:16:34.159161600Z",
     "start_time": "2024-02-20T10:16:34.062881300Z"
    }
   }
  },
  {
   "cell_type": "code",
   "execution_count": 59,
   "outputs": [
    {
     "data": {
      "text/plain": "([[], [], ['Afr-Am', 'Native American'], [], ['0', '[1,3]'], []],\n 0.13483539326272487)"
     },
     "execution_count": 59,
     "metadata": {},
     "output_type": "execute_result"
    }
   ],
   "source": [
    "n = 3\n",
    "sd.get_box(n), sd.get_qual()[n]"
   ],
   "metadata": {
    "collapsed": false,
    "ExecuteTime": {
     "end_time": "2024-02-20T10:16:41.055289500Z",
     "start_time": "2024-02-20T10:16:40.977142800Z"
    }
   }
  },
  {
   "cell_type": "code",
   "execution_count": 60,
   "outputs": [
    {
     "data": {
      "text/plain": "(array([0.        , 0.00519745, 0.02796506, 0.02833821, 0.06499878,\n        0.19109776, 0.21963301, 0.23075214, 0.23509025, 0.23289812,\n        0.22875917]),\n [1.0,\n  0.9444264419961115,\n  0.7470836033700583,\n  0.7438431626701232,\n  0.5014581983149708,\n  0.2214841218405703,\n  0.17012313674659754,\n  0.15084251458198314,\n  0.14095917044718081,\n  0.10612443292287752,\n  0.10596241088788075])"
     },
     "execution_count": 60,
     "metadata": {},
     "output_type": "execute_result"
    }
   ],
   "source": [
    "# FPR\n",
    "from PRIM import PRIM_nominal_fpr\n",
    "\n",
    "y = df['class'].to_numpy()\n",
    "ypred = df['predicted'].to_numpy()\n",
    "X = df[['age', 'charge', 'race', 'sex', 'prior', 'stay']]\n",
    "pr = PRIM_nominal_fpr(mass_min = 0.1)\n",
    "pr.fit(X, y, ypred)\n",
    "tmp = pr.get_res()\n",
    "tmp[1] - tmp[1][0], tmp[2]\n",
    "#tmp[1][0]"
   ],
   "metadata": {
    "collapsed": false,
    "ExecuteTime": {
     "end_time": "2024-02-20T10:17:02.315968900Z",
     "start_time": "2024-02-20T10:17:02.210800700Z"
    }
   }
  },
  {
   "cell_type": "code",
   "execution_count": 64,
   "outputs": [
    {
     "name": "stdout",
     "output_type": "stream",
     "text": [
      "Index(['age', 'charge', 'race', 'sex', 'prior', 'stay'], dtype='object')\n",
      "Support = 0.14095917044718081\n",
      "Delta_FPR = 0.23509024996678501\n"
     ]
    },
    {
     "data": {
      "text/plain": "([array(['25-45', '<25'], dtype=object),\n  array(['F', 'M'], dtype=object),\n  array(['Afr-Am', 'Native American'], dtype=object),\n  array(['Male'], dtype=object),\n  array(['>3'], dtype=object),\n  array(['<week', '1w-3M', '>3Months'], dtype=object)],\n [array(['>45', '25-45', '<25'], dtype=object),\n  array(['F', 'M'], dtype=object),\n  array(['Other', 'Afr-Am', 'Cauc', 'Hispanic', 'Asian', 'Native American'],\n        dtype=object),\n  array(['Male', 'Female'], dtype=object),\n  array(['0', '>3', '[1,3]'], dtype=object),\n  array(['<week', '1w-3M', '>3Months'], dtype=object)])"
     },
     "execution_count": 64,
     "metadata": {},
     "output_type": "execute_result"
    }
   ],
   "source": [
    "boxn = 8 \n",
    "print(X.columns)\n",
    "print('Support = %s' %tmp[2][boxn])\n",
    "print('Delta_FPR = %s' %(tmp[1] - tmp[1][0])[boxn])\n",
    "tmp[0][boxn], tmp[0][0]"
   ],
   "metadata": {
    "collapsed": false,
    "ExecuteTime": {
     "end_time": "2024-02-20T10:35:17.236607Z",
     "start_time": "2024-02-20T10:35:17.174088900Z"
    }
   }
  },
  {
   "cell_type": "code",
   "execution_count": 65,
   "outputs": [
    {
     "name": "stdout",
     "output_type": "stream",
     "text": [
      "Index(['age', 'charge', 'race', 'sex', 'prior', 'stay'], dtype='object')\n",
      "Support = 0.17012313674659754\n",
      "Delta_FPR = 0.21963301451518574\n"
     ]
    },
    {
     "data": {
      "text/plain": "([array(['25-45', '<25'], dtype=object),\n  array(['F', 'M'], dtype=object),\n  array(['Afr-Am', 'Hispanic', 'Native American'], dtype=object),\n  array(['Male', 'Female'], dtype=object),\n  array(['>3'], dtype=object),\n  array(['<week', '1w-3M', '>3Months'], dtype=object)],\n [array(['>45', '25-45', '<25'], dtype=object),\n  array(['F', 'M'], dtype=object),\n  array(['Other', 'Afr-Am', 'Cauc', 'Hispanic', 'Asian', 'Native American'],\n        dtype=object),\n  array(['Male', 'Female'], dtype=object),\n  array(['0', '>3', '[1,3]'], dtype=object),\n  array(['<week', '1w-3M', '>3Months'], dtype=object)])"
     },
     "execution_count": 65,
     "metadata": {},
     "output_type": "execute_result"
    }
   ],
   "source": [
    "boxn = 6 \n",
    "print(X.columns)\n",
    "print('Support = %s' %tmp[2][boxn])\n",
    "print('Delta_FPR = %s' %(tmp[1] - tmp[1][0])[boxn])\n",
    "tmp[0][boxn], tmp[0][0]"
   ],
   "metadata": {
    "collapsed": false,
    "ExecuteTime": {
     "end_time": "2024-02-20T10:35:27.337803Z",
     "start_time": "2024-02-20T10:35:27.272765700Z"
    }
   }
  },
  {
   "cell_type": "code",
   "execution_count": 66,
   "outputs": [
    {
     "data": {
      "text/plain": "     age charge    race   sex prior   stay  class  predicted   fp   fn\n0    >45      F   Other  Male     0  <week      0          0  0.0  NaN\n1  25-45      F  Afr-Am  Male     0  1w-3M      1          0  NaN  1.0\n2    <25      F  Afr-Am  Male    >3  <week      1          0  NaN  1.0\n3  25-45      M   Other  Male     0  <week      0          0  0.0  NaN\n4  25-45      F    Cauc  Male    >3  <week      1          0  NaN  1.0",
      "text/html": "<div>\n<style scoped>\n    .dataframe tbody tr th:only-of-type {\n        vertical-align: middle;\n    }\n\n    .dataframe tbody tr th {\n        vertical-align: top;\n    }\n\n    .dataframe thead th {\n        text-align: right;\n    }\n</style>\n<table border=\"1\" class=\"dataframe\">\n  <thead>\n    <tr style=\"text-align: right;\">\n      <th></th>\n      <th>age</th>\n      <th>charge</th>\n      <th>race</th>\n      <th>sex</th>\n      <th>prior</th>\n      <th>stay</th>\n      <th>class</th>\n      <th>predicted</th>\n      <th>fp</th>\n      <th>fn</th>\n    </tr>\n  </thead>\n  <tbody>\n    <tr>\n      <th>0</th>\n      <td>&gt;45</td>\n      <td>F</td>\n      <td>Other</td>\n      <td>Male</td>\n      <td>0</td>\n      <td>&lt;week</td>\n      <td>0</td>\n      <td>0</td>\n      <td>0.0</td>\n      <td>NaN</td>\n    </tr>\n    <tr>\n      <th>1</th>\n      <td>25-45</td>\n      <td>F</td>\n      <td>Afr-Am</td>\n      <td>Male</td>\n      <td>0</td>\n      <td>1w-3M</td>\n      <td>1</td>\n      <td>0</td>\n      <td>NaN</td>\n      <td>1.0</td>\n    </tr>\n    <tr>\n      <th>2</th>\n      <td>&lt;25</td>\n      <td>F</td>\n      <td>Afr-Am</td>\n      <td>Male</td>\n      <td>&gt;3</td>\n      <td>&lt;week</td>\n      <td>1</td>\n      <td>0</td>\n      <td>NaN</td>\n      <td>1.0</td>\n    </tr>\n    <tr>\n      <th>3</th>\n      <td>25-45</td>\n      <td>M</td>\n      <td>Other</td>\n      <td>Male</td>\n      <td>0</td>\n      <td>&lt;week</td>\n      <td>0</td>\n      <td>0</td>\n      <td>0.0</td>\n      <td>NaN</td>\n    </tr>\n    <tr>\n      <th>4</th>\n      <td>25-45</td>\n      <td>F</td>\n      <td>Cauc</td>\n      <td>Male</td>\n      <td>&gt;3</td>\n      <td>&lt;week</td>\n      <td>1</td>\n      <td>0</td>\n      <td>NaN</td>\n      <td>1.0</td>\n    </tr>\n  </tbody>\n</table>\n</div>"
     },
     "execution_count": 66,
     "metadata": {},
     "output_type": "execute_result"
    }
   ],
   "source": [
    "df.head()"
   ],
   "metadata": {
    "collapsed": false,
    "ExecuteTime": {
     "end_time": "2024-02-20T10:37:56.858839100Z",
     "start_time": "2024-02-20T10:37:56.792181200Z"
    }
   }
  },
  {
   "cell_type": "code",
   "execution_count": 93,
   "outputs": [
    {
     "data": {
      "text/plain": "(array([ 0.03168599,  0.1309551 ,  0.18591767,  0.1921738 ,  0.19109776,\n         0.18932727,  0.19105936,  0.19563661,  0.23219882,  0.21972171,\n         0.20154107, -0.00497512, -0.0212766 ]),\n array([0.66218406, 0.29342191, 0.22909916, 0.22180817, 0.22148412,\n        0.22116008, 0.20998056, 0.1830849 , 0.14079715, 0.1286455 ,\n        0.11924822, 0.03256643, 0.00761504]))"
     },
     "execution_count": 93,
     "metadata": {},
     "output_type": "execute_result"
    }
   ],
   "source": [
    "sd = PRIM(patience=1, fprfnr = True)\n",
    "sd.fit(X, df['fp'])\n",
    "np.array(sd.get_qual()), np.array(sd.get_size())"
   ],
   "metadata": {
    "collapsed": false,
    "ExecuteTime": {
     "end_time": "2024-02-20T10:42:41.113309500Z",
     "start_time": "2024-02-20T10:42:40.996932Z"
    }
   }
  },
  {
   "cell_type": "code",
   "execution_count": 103,
   "outputs": [
    {
     "name": "stdout",
     "output_type": "stream",
     "text": [
      "Index(['age', 'charge', 'race', 'sex', 'prior', 'stay'], dtype='object')\n"
     ]
    },
    {
     "data": {
      "text/plain": "([['>45'],\n  [],\n  ['Other', 'Asian', 'Native American', 'Hispanic', 'Cauc'],\n  ['Female'],\n  ['0', '[1,3]'],\n  []],\n 0.14079714841218405,\n 0.2321988151604566)"
     },
     "execution_count": 103,
     "metadata": {},
     "output_type": "execute_result"
    }
   ],
   "source": [
    "n = 8\n",
    "print(X.columns)\n",
    "sd.get_box(n), sd.get_size()[n], sd.get_qual()[n]"
   ],
   "metadata": {
    "collapsed": false,
    "ExecuteTime": {
     "end_time": "2024-02-20T10:47:47.447864600Z",
     "start_time": "2024-02-20T10:47:47.367101500Z"
    }
   }
  },
  {
   "cell_type": "code",
   "execution_count": 102,
   "outputs": [
    {
     "name": "stdout",
     "output_type": "stream",
     "text": [
      "Index(['age', 'charge', 'race', 'sex', 'prior', 'stay'], dtype='object')\n"
     ]
    },
    {
     "data": {
      "text/plain": "([['>45', '<25'],\n  [],\n  ['Other', 'Asian', 'Native American', 'Hispanic', 'Cauc'],\n  ['Female'],\n  ['0', '[1,3]'],\n  []],\n 0.1286454957874271,\n 0.21972170893335038)"
     },
     "execution_count": 102,
     "metadata": {},
     "output_type": "execute_result"
    }
   ],
   "source": [
    "n = 9\n",
    "print(X.columns)\n",
    "sd.get_box(n), sd.get_size()[n], sd.get_qual()[n]"
   ],
   "metadata": {
    "collapsed": false,
    "ExecuteTime": {
     "end_time": "2024-02-20T10:47:44.306574900Z",
     "start_time": "2024-02-20T10:47:44.215445500Z"
    }
   }
  },
  {
   "cell_type": "code",
   "execution_count": 104,
   "outputs": [
    {
     "data": {
      "text/plain": "(array([0.        , 0.00053222, 0.01630743, 0.11840457, 0.19718297,\n        0.22598134, 0.25541429, 0.29094878, 0.29094878, 0.2899701 ]),\n [1.0,\n  0.9982177576150356,\n  0.9479909267660401,\n  0.681950745301361,\n  0.49368114063512636,\n  0.4210952689565781,\n  0.2551847051198963,\n  0.131399870382372,\n  0.13026571613739468,\n  0.11633182112767336])"
     },
     "execution_count": 104,
     "metadata": {},
     "output_type": "execute_result"
    }
   ],
   "source": [
    "# FNR\n",
    "from PRIM import PRIM_nominal_fnr\n",
    "\n",
    "y = df['class'].to_numpy()\n",
    "ypred = df['predicted'].to_numpy()\n",
    "X = df[['age', 'charge', 'race', 'sex', 'prior', 'stay']]\n",
    "pr = PRIM_nominal_fnr(mass_min = 0.1)\n",
    "pr.fit(X, y, ypred)\n",
    "tmp = pr.get_res()\n",
    "tmp[1] - tmp[1][0], tmp[2]\n",
    "\n",
    "# in fact these are richer subgroup descriptions!"
   ],
   "metadata": {
    "collapsed": false,
    "ExecuteTime": {
     "end_time": "2024-02-20T10:50:21.183739500Z",
     "start_time": "2024-02-20T10:50:21.067799Z"
    }
   }
  },
  {
   "cell_type": "code",
   "execution_count": 106,
   "outputs": [
    {
     "name": "stdout",
     "output_type": "stream",
     "text": [
      "Index(['age', 'charge', 'race', 'sex', 'prior', 'stay'], dtype='object')\n",
      "Delta_FNR = 0.2909487832948139\n",
      "Support = 0.131399870382372\n"
     ]
    },
    {
     "data": {
      "text/plain": "[array(['>45', '25-45'], dtype=object),\n array(['M'], dtype=object),\n array(['Other', 'Cauc', 'Hispanic', 'Asian'], dtype=object),\n array(['Male', 'Female'], dtype=object),\n array(['0', '[1,3]'], dtype=object),\n array(['<week'], dtype=object)]"
     },
     "execution_count": 106,
     "metadata": {},
     "output_type": "execute_result"
    }
   ],
   "source": [
    "boxn = 7 #6\n",
    "print(X.columns)\n",
    "print('Delta_FNR = %s' %(tmp[1] - tmp[1][0])[boxn])\n",
    "print('Support = %s' %tmp[2][boxn])\n",
    "tmp[0][boxn]"
   ],
   "metadata": {
    "collapsed": false,
    "ExecuteTime": {
     "end_time": "2024-02-20T10:50:45.885310Z",
     "start_time": "2024-02-20T10:50:45.822831700Z"
    }
   }
  },
  {
   "cell_type": "code",
   "execution_count": 108,
   "outputs": [
    {
     "name": "stdout",
     "output_type": "stream",
     "text": [
      "Index(['age', 'charge', 'race', 'sex', 'prior', 'stay'], dtype='object')\n",
      "Delta_FNR = 0.25541428902245555\n",
      "Support = 0.2551847051198963\n"
     ]
    },
    {
     "data": {
      "text/plain": "[array(['>45', '25-45'], dtype=object),\n array(['F', 'M'], dtype=object),\n array(['Other', 'Cauc', 'Hispanic', 'Asian'], dtype=object),\n array(['Male', 'Female'], dtype=object),\n array(['0', '[1,3]'], dtype=object),\n array(['<week'], dtype=object)]"
     },
     "execution_count": 108,
     "metadata": {},
     "output_type": "execute_result"
    }
   ],
   "source": [
    "boxn = 6 #5\n",
    "print(X.columns)\n",
    "print('Delta_FNR = %s' %(tmp[1] - tmp[1][0])[boxn])\n",
    "print('Support = %s' %tmp[2][boxn])\n",
    "tmp[0][boxn]"
   ],
   "metadata": {
    "collapsed": false,
    "ExecuteTime": {
     "end_time": "2024-02-20T11:01:19.024726500Z",
     "start_time": "2024-02-20T11:01:18.970163100Z"
    }
   }
  },
  {
   "cell_type": "code",
   "execution_count": 128,
   "outputs": [
    {
     "data": {
      "text/plain": "(array([ 0.11599072,  0.19654392,  0.24232027,  0.27462496,  0.28590579,\n         0.29094878,  0.29094878,  0.29094878,  0.2899701 , -1.        ,\n        -1.        ]),\n array([0.48558004, 0.19815295, 0.16931303, 0.1463059 , 0.13350616,\n        0.13188594, 0.13139987, 0.13026572, 0.11633182, 0.04617628,\n        0.00745301]))"
     },
     "execution_count": 128,
     "metadata": {},
     "output_type": "execute_result"
    }
   ],
   "source": [
    "\n",
    "sd = PRIM(patience=0, fprfnr = True)\n",
    "X = df[['age', 'charge', 'race', 'sex', 'prior', 'stay']]\n",
    "sd.fit(X, df['fn'])\n",
    "np.array(sd.get_qual()), np.array(sd.get_size())"
   ],
   "metadata": {
    "collapsed": false,
    "ExecuteTime": {
     "end_time": "2024-02-20T11:08:42.934865600Z",
     "start_time": "2024-02-20T11:08:42.804551200Z"
    }
   }
  },
  {
   "cell_type": "code",
   "execution_count": 134,
   "outputs": [
    {
     "name": "stdout",
     "output_type": "stream",
     "text": [
      "Index(['age', 'charge', 'race', 'sex', 'prior', 'stay'], dtype='object')\n"
     ]
    },
    {
     "data": {
      "text/plain": "([['<25'], ['F'], ['Afr-Am'], [], ['>3'], ['1w-3M', '>3Months']],\n 0.13188593648736227,\n 0.2909487832948139)"
     },
     "execution_count": 134,
     "metadata": {},
     "output_type": "execute_result"
    }
   ],
   "source": [
    "n = 5\n",
    "print(X.columns)\n",
    "sd.get_box(n), sd.get_size()[n], sd.get_qual()[n]"
   ],
   "metadata": {
    "collapsed": false,
    "ExecuteTime": {
     "end_time": "2024-02-20T11:11:30.410595500Z",
     "start_time": "2024-02-20T11:11:30.354175200Z"
    }
   }
  },
  {
   "cell_type": "code",
   "execution_count": 132,
   "outputs": [
    {
     "name": "stdout",
     "output_type": "stream",
     "text": [
      "Index(['age', 'charge', 'race', 'sex', 'prior', 'stay'], dtype='object')\n"
     ]
    },
    {
     "data": {
      "text/plain": "([['<25'], ['F'], ['Afr-Am'], [], [], []],\n 0.16931302657161373,\n 0.24232026756103497)"
     },
     "execution_count": 132,
     "metadata": {},
     "output_type": "execute_result"
    }
   ],
   "source": [
    "n = 2\n",
    "print(X.columns)\n",
    "sd.get_box(n), sd.get_size()[n], sd.get_qual()[n]"
   ],
   "metadata": {
    "collapsed": false,
    "ExecuteTime": {
     "end_time": "2024-02-20T11:09:40.374833Z",
     "start_time": "2024-02-20T11:09:40.294241300Z"
    }
   }
  },
  {
   "cell_type": "code",
   "execution_count": 329,
   "outputs": [
    {
     "data": {
      "text/plain": "     age charge    race   sex prior   stay\n0    >45      F   Other  Male     0  <week\n1  25-45      F  Afr-Am  Male     0  1w-3M\n2    <25      F  Afr-Am  Male    >3  <week\n3  25-45      M   Other  Male     0  <week\n4  25-45      F    Cauc  Male    >3  <week",
      "text/html": "<div>\n<style scoped>\n    .dataframe tbody tr th:only-of-type {\n        vertical-align: middle;\n    }\n\n    .dataframe tbody tr th {\n        vertical-align: top;\n    }\n\n    .dataframe thead th {\n        text-align: right;\n    }\n</style>\n<table border=\"1\" class=\"dataframe\">\n  <thead>\n    <tr style=\"text-align: right;\">\n      <th></th>\n      <th>age</th>\n      <th>charge</th>\n      <th>race</th>\n      <th>sex</th>\n      <th>prior</th>\n      <th>stay</th>\n    </tr>\n  </thead>\n  <tbody>\n    <tr>\n      <th>0</th>\n      <td>&gt;45</td>\n      <td>F</td>\n      <td>Other</td>\n      <td>Male</td>\n      <td>0</td>\n      <td>&lt;week</td>\n    </tr>\n    <tr>\n      <th>1</th>\n      <td>25-45</td>\n      <td>F</td>\n      <td>Afr-Am</td>\n      <td>Male</td>\n      <td>0</td>\n      <td>1w-3M</td>\n    </tr>\n    <tr>\n      <th>2</th>\n      <td>&lt;25</td>\n      <td>F</td>\n      <td>Afr-Am</td>\n      <td>Male</td>\n      <td>&gt;3</td>\n      <td>&lt;week</td>\n    </tr>\n    <tr>\n      <th>3</th>\n      <td>25-45</td>\n      <td>M</td>\n      <td>Other</td>\n      <td>Male</td>\n      <td>0</td>\n      <td>&lt;week</td>\n    </tr>\n    <tr>\n      <th>4</th>\n      <td>25-45</td>\n      <td>F</td>\n      <td>Cauc</td>\n      <td>Male</td>\n      <td>&gt;3</td>\n      <td>&lt;week</td>\n    </tr>\n  </tbody>\n</table>\n</div>"
     },
     "execution_count": 329,
     "metadata": {},
     "output_type": "execute_result"
    }
   ],
   "source": [
    "X.head()"
   ],
   "metadata": {
    "collapsed": false,
    "ExecuteTime": {
     "end_time": "2024-02-15T11:10:58.850559200Z",
     "start_time": "2024-02-15T11:10:58.773577900Z"
    }
   }
  }
 ]
}
